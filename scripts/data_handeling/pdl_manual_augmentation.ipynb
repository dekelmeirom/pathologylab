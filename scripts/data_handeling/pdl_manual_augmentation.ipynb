{
 "cells": [
  {
   "cell_type": "code",
   "execution_count": 36,
   "metadata": {},
   "outputs": [],
   "source": [
    "from matplotlib import pyplot as plt\n",
    "from matplotlib import colors as colors\n",
    "import numpy as np\n",
    "import math\n",
    "import os\n",
    "import cv2\n",
    "import copy\n",
    "import json\n",
    "\n",
    "from skimage.morphology import extrema\n",
    "from skimage.morphology import watershed as skwater"
   ]
  },
  {
   "cell_type": "markdown",
   "metadata": {},
   "source": [
    "# rotating the images"
   ]
  },
  {
   "cell_type": "code",
   "execution_count": 26,
   "metadata": {},
   "outputs": [],
   "source": [
    "imgs = [f for f in os.listdir(img_dist + \"rotated\")]"
   ]
  },
  {
   "cell_type": "code",
   "execution_count": 34,
   "metadata": {},
   "outputs": [],
   "source": [
    "for img_name in imgs:\n",
    "    orig_img = cv2.imread(img_dist + \"rotated\\\\\" + img_name)\n",
    "    rotated = cv2.rotate(orig_img, cv2.ROTATE_90_CLOCKWISE)\n",
    "    cv2.imwrite(img_dist + \"rotated\\\\\" + img_name[:-4] + \"_rotated\" + img_name[-4:], rotated) "
   ]
  },
  {
   "cell_type": "code",
   "execution_count": 141,
   "metadata": {},
   "outputs": [],
   "source": [
    "imgs2 = [f for f in os.listdir(img_dist + \"rotated\")]"
   ]
  },
  {
   "cell_type": "code",
   "execution_count": 151,
   "metadata": {},
   "outputs": [],
   "source": [
    "# rotated again\n",
    "for img_name in imgs2:\n",
    "    if \"rotated\" in img_name:\n",
    "        orig_img = cv2.imread(img_dist + \"rotated\\\\\" + img_name)\n",
    "        rotated = cv2.rotate(orig_img, cv2.ROTATE_90_CLOCKWISE)\n",
    "        cv2.imwrite(img_dist + \"rotated\\\\\" + img_name[:-4] + \"2\" + img_name[-4:], rotated) "
   ]
  },
  {
   "cell_type": "code",
   "execution_count": 152,
   "metadata": {},
   "outputs": [],
   "source": [
    "imgs3 = [f for f in os.listdir(img_dist + \"rotated\")]"
   ]
  },
  {
   "cell_type": "code",
   "execution_count": 153,
   "metadata": {},
   "outputs": [],
   "source": [
    "# rotated again\n",
    "for img_name in imgs3:\n",
    "    if \"rotated2\" in img_name:\n",
    "        orig_img = cv2.imread(img_dist + \"rotated\\\\\" + img_name)\n",
    "        rotated = cv2.rotate(orig_img, cv2.ROTATE_90_CLOCKWISE)\n",
    "        cv2.imwrite(img_dist + \"rotated\\\\\" + img_name[:-5] + \"3\" + img_name[-4:], rotated) "
   ]
  },
  {
   "cell_type": "markdown",
   "metadata": {},
   "source": [
    "## rotating the annotations and creating the new json file"
   ]
  },
  {
   "cell_type": "code",
   "execution_count": null,
   "metadata": {},
   "outputs": [],
   "source": [
    "with open(\"C:\\\\Users\\\\dekelmeirom\\\\OneDrive - Technion\\\\Documents\\\\university\\\\PDL_project\\\\CCD_Project_15MAR21_215.json\") as json_file:\n",
    "    json_data = json.load(json_file)"
   ]
  },
  {
   "cell_type": "code",
   "execution_count": 129,
   "metadata": {},
   "outputs": [],
   "source": [
    "images = json_data[\"_via_img_metadata\"]\n",
    "images_names = list(images.keys())\n",
    "working_images = images_names[0:215]"
   ]
  },
  {
   "cell_type": "code",
   "execution_count": 130,
   "metadata": {},
   "outputs": [],
   "source": [
    "with open(img_dist + \"rotated_train_image_names.txt\", 'r') as rotated_train_image_names_file:\n",
    "    rotated_train_image_names = rotated_train_image_names_file.read()\n",
    "rotated_train_image_names = rotated_train_image_names.split(\"\\n\")"
   ]
  },
  {
   "cell_type": "code",
   "execution_count": 131,
   "metadata": {},
   "outputs": [],
   "source": [
    "with open(img_dist + \"PDL_Project_train_215.json\", 'r') as train_file:\n",
    "    train_data = json.load(train_file)"
   ]
  },
  {
   "cell_type": "code",
   "execution_count": 132,
   "metadata": {},
   "outputs": [],
   "source": [
    "new_train_images = copy.deepcopy(train_data)\n",
    "for img_name in rotated_train_image_names:\n",
    "    orig_img = cv2.imread(img_dist + \"rotated\\\\\" + img_name.split(\"png\")[0][:-1] + \".png\")\n",
    "    index = images_names.index(img_name)\n",
    "    regions = new_train_images[images_names[index]]['regions']\n",
    "    new_regions = copy.deepcopy(regions)\n",
    "    for region in new_regions:\n",
    "        old_x = region['shape_attributes']['all_points_x']\n",
    "        old_y = region['shape_attributes']['all_points_y']\n",
    "        new_x = []\n",
    "        new_y = []\n",
    "        for i in range(len(old_x)):\n",
    "            new_x.append(orig_img.shape[0] - old_y[i])\n",
    "            new_y.append(old_x[i])\n",
    "        region['shape_attributes']['all_points_x'] = new_x\n",
    "        region['shape_attributes']['all_points_y'] = new_y\n",
    "    new_image = copy.deepcopy(images[images_names[index]])\n",
    "    new_image['regions'] = new_regions\n",
    "    new_image['filename'] = new_image['filename'][:-4] + \"_rotated\" + new_image['filename'][-4:]\n",
    "    new_train_images[img_name + \"_rotated\"] = new_image"
   ]
  },
  {
   "cell_type": "code",
   "execution_count": 133,
   "metadata": {},
   "outputs": [],
   "source": [
    "# new_train = copy.deepcopy(json_data)\n",
    "# new_train[\"_via_img_metadata\"] = new_images\n",
    "train_path = img_dist + \"PDL_Project_aug_train_215.json\"\n",
    "with open(train_path, 'w') as train_file:\n",
    "    json.dump(new_train_images, train_file)"
   ]
  },
  {
   "cell_type": "code",
   "execution_count": 162,
   "metadata": {},
   "outputs": [],
   "source": [
    "with open(img_dist + \"PDL_Project_aug_train_215.json\", 'r') as train_file:\n",
    "    train_data = json.load(train_file)"
   ]
  },
  {
   "cell_type": "code",
   "execution_count": 163,
   "metadata": {},
   "outputs": [],
   "source": [
    "new_train_images = copy.deepcopy(train_data)\n",
    "for img_name in rotated_train_image_names:\n",
    "    orig_img = cv2.imread(img_dist + \"rotated\\\\\" + img_name.split(\"png\")[0][:-1] + \"_rotated.png\")\n",
    "    index = images_names.index(img_name)\n",
    "    regions = new_train_images[images_names[index] + \"_rotated\"]['regions']\n",
    "    new_regions = copy.deepcopy(regions)\n",
    "    for region in new_regions:\n",
    "        old_x = region['shape_attributes']['all_points_x']\n",
    "        old_y = region['shape_attributes']['all_points_y']\n",
    "        new_x = []\n",
    "        new_y = []\n",
    "        for i in range(len(old_x)):\n",
    "            new_x.append(orig_img.shape[0] - old_y[i])\n",
    "            new_y.append(old_x[i])\n",
    "        region['shape_attributes']['all_points_x'] = new_x\n",
    "        region['shape_attributes']['all_points_y'] = new_y\n",
    "    new_image = copy.deepcopy(images[images_names[index]])\n",
    "    new_image['regions'] = new_regions\n",
    "    new_image['filename'] = new_image['filename'][:-4] + \"_rotated2\" + new_image['filename'][-4:]\n",
    "    new_train_images[img_name + \"_rotated2\"] = new_image"
   ]
  },
  {
   "cell_type": "code",
   "execution_count": 164,
   "metadata": {},
   "outputs": [],
   "source": [
    "train_path = img_dist + \"PDL_Project_aug2_train_215.json\"\n",
    "with open(train_path, 'w') as train_file:\n",
    "    json.dump(new_train_images, train_file)\n",
    "    \n",
    "new_train2 = copy.deepcopy(json_data)\n",
    "new_train2[\"_via_img_metadata\"] = new_train_images\n",
    "train_path2 = img_dist + \"PDL_Project_aug2_train_215_for_via.json\"\n",
    "with open(train_path2, 'w') as train_file2:\n",
    "    json.dump(new_train2, train_file2)"
   ]
  },
  {
   "cell_type": "markdown",
   "metadata": {},
   "source": [
    "## modify also some test images"
   ]
  },
  {
   "cell_type": "code",
   "execution_count": 134,
   "metadata": {},
   "outputs": [],
   "source": [
    "with open(img_dist + \"rotated_test_image_names.txt\", 'r') as rotated_test_image_names_file:\n",
    "    rotated_test_image_names = rotated_test_image_names_file.read()\n",
    "rotated_test_image_names = rotated_test_image_names.split(\"\\n\")"
   ]
  },
  {
   "cell_type": "code",
   "execution_count": 135,
   "metadata": {},
   "outputs": [],
   "source": [
    "with open(img_dist + \"PDL_Project_test_215.json\", 'r') as test_file:\n",
    "    test_data = json.load(test_file)"
   ]
  },
  {
   "cell_type": "code",
   "execution_count": 136,
   "metadata": {},
   "outputs": [],
   "source": [
    "new_test_images = copy.deepcopy(test_data)\n",
    "for img_name in rotated_test_image_names:\n",
    "    orig_img = cv2.imread(img_dist + \"rotated\\\\\" + img_name.split(\"png\")[0][:-1] + \".png\")\n",
    "    index = images_names.index(img_name)\n",
    "    regions = new_test_images[images_names[index]]['regions']\n",
    "    new_regions = copy.deepcopy(regions)\n",
    "    for region in new_regions:\n",
    "        old_x = region['shape_attributes']['all_points_x']\n",
    "        old_y = region['shape_attributes']['all_points_y']\n",
    "        new_x = []\n",
    "        new_y = []\n",
    "        for i in range(len(old_x)):\n",
    "            new_x.append(orig_img.shape[0] - old_y[i])\n",
    "            new_y.append(old_x[i])\n",
    "        region['shape_attributes']['all_points_x'] = new_x\n",
    "        region['shape_attributes']['all_points_y'] = new_y\n",
    "    new_image = copy.deepcopy(images[images_names[index]])\n",
    "    new_image['regions'] = new_regions\n",
    "    new_image['filename'] = new_image['filename'][:-4] + \"_rotated\" + new_image['filename'][-4:]\n",
    "    new_test_images[img_name + \"_rotated\"] = new_image"
   ]
  },
  {
   "cell_type": "code",
   "execution_count": 137,
   "metadata": {},
   "outputs": [],
   "source": [
    "test_path = img_dist + \"PDL_Project_aug_test_215.json\"\n",
    "with open(test_path, 'w') as test_file:\n",
    "    json.dump(new_test_images, test_file)"
   ]
  },
  {
   "cell_type": "code",
   "execution_count": null,
   "metadata": {},
   "outputs": [],
   "source": []
  }
 ],
 "metadata": {
  "kernelspec": {
   "display_name": "Python 3",
   "language": "python",
   "name": "python3"
  },
  "language_info": {
   "codemirror_mode": {
    "name": "ipython",
    "version": 3
   },
   "file_extension": ".py",
   "mimetype": "text/x-python",
   "name": "python",
   "nbconvert_exporter": "python",
   "pygments_lexer": "ipython3",
   "version": "3.7.4"
  }
 },
 "nbformat": 4,
 "nbformat_minor": 2
}
