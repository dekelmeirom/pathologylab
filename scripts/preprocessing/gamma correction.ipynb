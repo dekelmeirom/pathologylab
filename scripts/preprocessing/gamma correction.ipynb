{
 "cells": [
  {
   "cell_type": "code",
   "execution_count": 1,
   "metadata": {},
   "outputs": [],
   "source": [
    "from skimage import exposure\n",
    "from matplotlib import pyplot as plt\n",
    "from matplotlib import colors as colors\n",
    "import numpy as np\n",
    "import matplotlib.image as mpimg\n",
    "import colorsys\n",
    "import math\n",
    "import os"
   ]
  },
  {
   "cell_type": "code",
   "execution_count": 2,
   "metadata": {},
   "outputs": [],
   "source": [
    "def rgb2gray(rgb):\n",
    "    return np.dot(rgb[...,:3], [0.2989, 0.5870, 0.1140])"
   ]
  },
  {
   "cell_type": "code",
   "execution_count": 3,
   "metadata": {},
   "outputs": [],
   "source": [
    "def gamma_correction(img):\n",
    "    gray = rgb2gray(img)\n",
    "\n",
    "    # compute gamma = log(mid*255)/log(mean)\n",
    "    mid = 0.5\n",
    "    mean = np.mean(gray)\n",
    "    gamma = math.log(mid)/math.log(mean)\n",
    "\n",
    "    img_gamma = exposure.adjust_gamma(img, gamma)\n",
    "    return img_gamma"
   ]
  },
  {
   "cell_type": "code",
   "execution_count": 7,
   "metadata": {},
   "outputs": [],
   "source": [
    "PATH = \"C:\\\\Users\\\\dekelmeirom\\\\OneDrive - Technion\\\\Documents\\\\university\\\\pdl_project_res\\\\\"\n",
    "SAVE_PATH = \"C:\\\\Users\\\\dekelmeirom\\\\OneDrive - Technion\\\\Documents\\\\university\\\\pdl_project_res\\\\\"\n",
    "\n",
    "for filename in os.listdir(PATH):\n",
    "    with open(PATH + filename, \"rb\") as img_file:\n",
    "        img = plt.imread(img_file)\n",
    "    img_gamma = gamma_correction(img)\n",
    "    plt.imsave(SAVE_PATH + filename[:-4] + \"gamma.png\", img_gamma)"
   ]
  },
  {
   "cell_type": "code",
   "execution_count": null,
   "metadata": {},
   "outputs": [],
   "source": []
  }
 ],
 "metadata": {
  "kernelspec": {
   "display_name": "Python 3",
   "language": "python",
   "name": "python3"
  },
  "language_info": {
   "codemirror_mode": {
    "name": "ipython",
    "version": 3
   },
   "file_extension": ".py",
   "mimetype": "text/x-python",
   "name": "python",
   "nbconvert_exporter": "python",
   "pygments_lexer": "ipython3",
   "version": "3.7.4"
  }
 },
 "nbformat": 4,
 "nbformat_minor": 2
}
